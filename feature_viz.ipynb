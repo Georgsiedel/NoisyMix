{
 "cells": [
  {
   "cell_type": "code",
   "execution_count": 10,
   "source": [
    "import os\n",
    "import sys\n",
    "import torch as ch\n",
    "import numpy as np\n",
    "import seaborn as sns\n",
    "from scipy import stats\n",
    "from tqdm import tqdm, tqdm_notebook\n",
    "import matplotlib.pyplot as plt\n",
    "from robustness import model_utils, datasets\n",
    "from robustness.tools.vis_tools import show_image_column\n",
    "%matplotlib inline\n",
    "\n",
    "from transfer_learning.tools import load_model_from_id"
   ],
   "outputs": [],
   "metadata": {}
  },
  {
   "cell_type": "code",
   "execution_count": 13,
   "source": [
    "# Constants\n",
    "DATA = 'ImageNet' # Choices: ['CIFAR', 'ImageNet', 'RestrictedImageNet']\n",
    "IMAGENET_FOLDER = '/scratch/data/imagenet12'\n",
    "BATCH_SIZE = 4\n",
    "NUM_WORKERS = 8\n",
    "NOISE_SCALE = 20\n",
    "\n",
    "DATA_SHAPE = 32 if DATA == 'CIFAR' else 224 # Image size (fixed for dataset)\n",
    "REPRESENTATION_SIZE = 2048 # Size of representation vector (fixed for model)\n",
    "\n",
    "# Load dataset\n",
    "dataset_function = getattr(datasets, DATA)\n",
    "dataset = dataset_function(IMAGENET_FOLDER)\n",
    "_, test_loader = dataset.make_loaders(workers=NUM_WORKERS, \n",
    "                                      batch_size=BATCH_SIZE // 2, \n",
    "                                      data_aug=False)\n",
    "data_iterator = enumerate(test_loader)"
   ],
   "outputs": [
    {
     "output_type": "stream",
     "name": "stdout",
     "text": [
      "==> Preparing dataset imagenet..\n"
     ]
    },
    {
     "output_type": "error",
     "ename": "ValueError",
     "evalue": "Test data must be stored in dataset/test or /scratch/data/imagenet12/test",
     "traceback": [
      "\u001b[0;31m---------------------------------------------------------------------------\u001b[0m",
      "\u001b[0;31mValueError\u001b[0m                                Traceback (most recent call last)",
      "\u001b[0;32m<ipython-input-13-f213c2e280a3>\u001b[0m in \u001b[0;36m<module>\u001b[0;34m\u001b[0m\n\u001b[1;32m     14\u001b[0m _, test_loader = dataset.make_loaders(workers=NUM_WORKERS, \n\u001b[1;32m     15\u001b[0m                                       \u001b[0mbatch_size\u001b[0m\u001b[0;34m=\u001b[0m\u001b[0mBATCH_SIZE\u001b[0m \u001b[0;34m//\u001b[0m \u001b[0;36m2\u001b[0m\u001b[0;34m,\u001b[0m\u001b[0;34m\u001b[0m\u001b[0;34m\u001b[0m\u001b[0m\n\u001b[0;32m---> 16\u001b[0;31m                                       data_aug=False)\n\u001b[0m\u001b[1;32m     17\u001b[0m \u001b[0mdata_iterator\u001b[0m \u001b[0;34m=\u001b[0m \u001b[0menumerate\u001b[0m\u001b[0;34m(\u001b[0m\u001b[0mtest_loader\u001b[0m\u001b[0;34m)\u001b[0m\u001b[0;34m\u001b[0m\u001b[0;34m\u001b[0m\u001b[0m\n",
      "\u001b[0;32m~/anaconda3/lib/python3.7/site-packages/robustness/datasets.py\u001b[0m in \u001b[0;36mmake_loaders\u001b[0;34m(self, workers, batch_size, data_aug, subset, subset_start, subset_type, val_batch_size, only_val, shuffle_train, shuffle_val, subset_seed)\u001b[0m\n\u001b[1;32m    174\u001b[0m                                     \u001b[0mshuffle_train\u001b[0m\u001b[0;34m=\u001b[0m\u001b[0mshuffle_train\u001b[0m\u001b[0;34m,\u001b[0m\u001b[0;34m\u001b[0m\u001b[0;34m\u001b[0m\u001b[0m\n\u001b[1;32m    175\u001b[0m                                     \u001b[0mshuffle_val\u001b[0m\u001b[0;34m=\u001b[0m\u001b[0mshuffle_val\u001b[0m\u001b[0;34m,\u001b[0m\u001b[0;34m\u001b[0m\u001b[0;34m\u001b[0m\u001b[0m\n\u001b[0;32m--> 176\u001b[0;31m                                     custom_class_args=self.custom_class_args)\n\u001b[0m\u001b[1;32m    177\u001b[0m \u001b[0;34m\u001b[0m\u001b[0m\n\u001b[1;32m    178\u001b[0m \u001b[0;32mclass\u001b[0m \u001b[0mImageNet\u001b[0m\u001b[0;34m(\u001b[0m\u001b[0mDataSet\u001b[0m\u001b[0;34m)\u001b[0m\u001b[0;34m:\u001b[0m\u001b[0;34m\u001b[0m\u001b[0;34m\u001b[0m\u001b[0m\n",
      "\u001b[0;32m~/anaconda3/lib/python3.7/site-packages/robustness/loaders.py\u001b[0m in \u001b[0;36mmake_loaders\u001b[0;34m(workers, batch_size, transforms, data_path, data_aug, custom_class, dataset, label_mapping, subset, subset_type, subset_start, val_batch_size, only_val, shuffle_train, shuffle_val, seed, custom_class_args)\u001b[0m\n\u001b[1;32m     52\u001b[0m \u001b[0;34m\u001b[0m\u001b[0m\n\u001b[1;32m     53\u001b[0m         \u001b[0;32mif\u001b[0m \u001b[0;32mnot\u001b[0m \u001b[0mos\u001b[0m\u001b[0;34m.\u001b[0m\u001b[0mpath\u001b[0m\u001b[0;34m.\u001b[0m\u001b[0mexists\u001b[0m\u001b[0;34m(\u001b[0m\u001b[0mtest_path\u001b[0m\u001b[0;34m)\u001b[0m\u001b[0;34m:\u001b[0m\u001b[0;34m\u001b[0m\u001b[0;34m\u001b[0m\u001b[0m\n\u001b[0;32m---> 54\u001b[0;31m             \u001b[0;32mraise\u001b[0m \u001b[0mValueError\u001b[0m\u001b[0;34m(\u001b[0m\u001b[0;34m\"Test data must be stored in dataset/test or {0}\"\u001b[0m\u001b[0;34m.\u001b[0m\u001b[0mformat\u001b[0m\u001b[0;34m(\u001b[0m\u001b[0mtest_path\u001b[0m\u001b[0;34m)\u001b[0m\u001b[0;34m)\u001b[0m\u001b[0;34m\u001b[0m\u001b[0;34m\u001b[0m\u001b[0m\n\u001b[0m\u001b[1;32m     55\u001b[0m \u001b[0;34m\u001b[0m\u001b[0m\n\u001b[1;32m     56\u001b[0m         \u001b[0;32mif\u001b[0m \u001b[0;32mnot\u001b[0m \u001b[0monly_val\u001b[0m\u001b[0;34m:\u001b[0m\u001b[0;34m\u001b[0m\u001b[0;34m\u001b[0m\u001b[0m\n",
      "\u001b[0;31mValueError\u001b[0m: Test data must be stored in dataset/test or /scratch/data/imagenet12/test"
     ]
    }
   ],
   "metadata": {}
  },
  {
   "cell_type": "code",
   "execution_count": null,
   "source": [],
   "outputs": [],
   "metadata": {}
  }
 ],
 "metadata": {
  "orig_nbformat": 4,
  "language_info": {
   "name": "python",
   "version": "3.7.7",
   "mimetype": "text/x-python",
   "codemirror_mode": {
    "name": "ipython",
    "version": 3
   },
   "pygments_lexer": "ipython3",
   "nbconvert_exporter": "python",
   "file_extension": ".py"
  },
  "kernelspec": {
   "name": "python3",
   "display_name": "Python 3.7.10 64-bit ('base': conda)"
  },
  "interpreter": {
   "hash": "ead85409a3df2736fa4852a03cf3afe7e5b1dbdc0e40d7d22bbcbf8cf1adf5fa"
  }
 },
 "nbformat": 4,
 "nbformat_minor": 2
}